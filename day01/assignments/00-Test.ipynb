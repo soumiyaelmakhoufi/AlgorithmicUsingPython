{
 "cells": [
  {
   "cell_type": "markdown",
   "metadata": {},
   "source": [
    "# Assessment test "
   ]
  },
  {
   "cell_type": "markdown",
   "metadata": {},
   "source": [
    "## Exercise 1: \n",
    "\n",
    "What is a correct syntax to output \"Hello World\" in Python?\n",
    "\n",
    "1. print(\"Hello World\")\n",
    "2. echo(\"Hello World\")\n",
    "3. p(\"Hello World\")\n",
    "4. printf(\"Hello World\")\n",
    "\n",
    "**You answer here**"
   ]
  },
  {
   "cell_type": "code",
   "execution_count": 1,
   "metadata": {},
   "outputs": [
    {
     "name": "stdout",
     "output_type": "stream",
     "text": [
      "Hello world\n"
     ]
    }
   ],
   "source": [
    "print(\"Hello world\")"
   ]
  },
  {
   "cell_type": "markdown",
   "metadata": {},
   "source": [
    "## Exercise 2:\n",
    "\n",
    "Which one is NOT a legal variable name?\n",
    "\n",
    "1. Myvar\n",
    "2. _myvar\n",
    "3. my-var\n",
    "4. my_var\n",
    "\n",
    "**Your answer here**"
   ]
  },
  {
   "cell_type": "code",
   "execution_count": null,
   "metadata": {},
   "outputs": [],
   "source": [
    "_myvar"
   ]
  },
  {
   "cell_type": "markdown",
   "metadata": {},
   "source": [
    "## Exercise 3: range()\n",
    "\n",
    "Use range() to print all the even numbers from 0 to 10."
   ]
  },
  {
   "cell_type": "code",
   "execution_count": 1,
   "metadata": {},
   "outputs": [
    {
     "name": "stdout",
     "output_type": "stream",
     "text": [
      "0\n",
      "2\n",
      "4\n",
      "6\n",
      "8\n",
      "10\n"
     ]
    }
   ],
   "source": [
    "for i in range(0,11,2):\n",
    "    print(i)"
   ]
  },
  {
   "cell_type": "markdown",
   "metadata": {},
   "source": [
    "## Exercise 4: list\n",
    "\n",
    "\n",
    "```python\n",
    ">>> arr = [\"Car\", \"Fruit\", 1]\n",
    "```\n",
    "\n",
    "1. Add element at the top of the list `arr`\n",
    "2. Add element at the end of the list `arr`\n",
    "3. remove element \"Car\" from the list"
   ]
  },
  {
   "cell_type": "code",
   "execution_count": 11,
   "metadata": {},
   "outputs": [
    {
     "name": "stdout",
     "output_type": "stream",
     "text": [
      "['bus', 'Car', 'Fruit', 1]\n",
      "['bus', 'Car', 'Fruit', 1, 2]\n",
      "['bus', 'Fruit', 1, 2]\n"
     ]
    }
   ],
   "source": [
    "arr=[\"Car\", \"Fruit\", 1]\n",
    "arr.insert(0,\"bus\")\n",
    "print(arr)\n",
    "arr.append(2)\n",
    "print(arr)\n",
    "arr.pop(1)\n",
    "print(arr)"
   ]
  },
  {
   "cell_type": "markdown",
   "metadata": {},
   "source": [
    "## Exercise 5: slicing\n",
    "\n",
    "```python\n",
    ">>> arr = [0, 1, 2, 3, 4, 5, 6, 7, 8, 9, 10, 11, 12, 13, 14, 15, 16, 17, 18, 19]\n",
    "```\n",
    "1. Print the first 10 elements\n",
    "2. Print the last 10 elements \n",
    "3. Print the elements between indices 3 and 7\n",
    "4. Print the elements at odd positions"
   ]
  },
  {
   "cell_type": "code",
   "execution_count": 18,
   "metadata": {},
   "outputs": [
    {
     "name": "stdout",
     "output_type": "stream",
     "text": [
      "[0, 1, 2, 3, 4, 5, 6, 7, 8, 9]\n",
      "[10, 11, 12, 13, 14, 15, 16, 17, 18, 19]\n",
      "[4, 5, 6]\n",
      "1\n",
      "3\n",
      "5\n",
      "7\n",
      "9\n",
      "11\n",
      "13\n",
      "15\n",
      "17\n",
      "19\n"
     ]
    }
   ],
   "source": [
    "arr=[0,1,2,3,4,5,6,7,8,9,10,11,12,13,14,15,16,17,18,19]\n",
    "a=slice(10)\n",
    "print(arr[a])\n",
    "b=slice(-10,20)\n",
    "print(arr[b])\n",
    "c=slice(4,7)\n",
    "print(arr[c])\n",
    "for i in range(1,20,2):\n",
    "   if(i%2==1):\n",
    "        print(i)\n",
    "\n",
    "    "
   ]
  },
  {
   "cell_type": "markdown",
   "metadata": {},
   "source": [
    "## Exercise 6: List comprehension\n",
    "\n",
    "Use List comprehension to create a list of all numbers between 1 and 50 that are divisible by 3."
   ]
  },
  {
   "cell_type": "code",
   "execution_count": 9,
   "metadata": {},
   "outputs": [
    {
     "name": "stdout",
     "output_type": "stream",
     "text": [
      "[3, 6, 9, 12, 15, 18, 21, 24, 27, 30, 33, 36, 39, 42, 45, 48]\n"
     ]
    }
   ],
   "source": [
    "list=[i for i in range(1,51) if(i%3==0)]\n",
    "print(list)\n"
   ]
  },
  {
   "cell_type": "markdown",
   "metadata": {},
   "source": [
    "## Exercise 7: string\n",
    "\n",
    "Go through the string below and if the length of a word is even print \"even!\"\n",
    "```python\n",
    ">>> st = 'Print every word in this sentence that has an even number of letters'\n",
    "```"
   ]
  },
  {
   "cell_type": "code",
   "execution_count": 14,
   "metadata": {},
   "outputs": [
    {
     "name": "stdout",
     "output_type": "stream",
     "text": [
      "word\n",
      "in\n",
      "this\n",
      "sentence\n",
      "that\n",
      "an\n",
      "even\n",
      "number\n",
      "of\n"
     ]
    }
   ],
   "source": [
    "st='Print every word in this sentence that has an even number of letters'\n",
    "x=st.split()\n",
    "for i in x:\n",
    "    if len(i)%2==0:\n",
    "        print(i)"
   ]
  },
  {
   "cell_type": "markdown",
   "metadata": {},
   "source": [
    "## Exercise 8: string\n",
    "\n",
    "Write a program that prints the integers from 1 to 100. But for multiples of three print \"Fizz\" instead of the number, and for the multiples of five print \"Buzz\". For numbers which are multiples of both three and five print \"FizzBuzz\"."
   ]
  },
  {
   "cell_type": "code",
   "execution_count": 12,
   "metadata": {},
   "outputs": [
    {
     "name": "stdout",
     "output_type": "stream",
     "text": [
      "Fizz\n",
      "Buzz\n",
      "Fizz\n",
      "Fizz\n",
      "Buzz\n",
      "Fizz\n",
      "FizzBuzz\n",
      "Fizz\n",
      "Fizz\n",
      "Buzz\n",
      "Fizz\n",
      "Fizz\n",
      "Buzz\n",
      "Fizz\n",
      "FizzBuzz\n",
      "Fizz\n",
      "Fizz\n",
      "Buzz\n",
      "Fizz\n",
      "Fizz\n",
      "Buzz\n",
      "Fizz\n",
      "FizzBuzz\n",
      "Fizz\n",
      "Fizz\n",
      "Buzz\n",
      "Fizz\n",
      "Fizz\n",
      "Buzz\n",
      "Fizz\n",
      "FizzBuzz\n",
      "Fizz\n",
      "Fizz\n",
      "Buzz\n",
      "Fizz\n",
      "Fizz\n",
      "Buzz\n",
      "Fizz\n",
      "FizzBuzz\n",
      "Fizz\n",
      "Fizz\n",
      "Buzz\n",
      "Fizz\n",
      "Fizz\n",
      "Buzz\n",
      "Fizz\n",
      "FizzBuzz\n",
      "Fizz\n",
      "Fizz\n",
      "Buzz\n",
      "Fizz\n",
      "Fizz\n",
      "Buzz\n"
     ]
    }
   ],
   "source": [
    "x=[i for i in range(1,101)]\n",
    "for i in x:\n",
    "    if i%3==0 and i%5==0:\n",
    "        print(\"FizzBuzz\")\n",
    "    if i%3==0:\n",
    "        print(\"Fizz\")\n",
    "    elif(i%5==0):\n",
    "        print(\"Buzz\")"
   ]
  },
  {
   "cell_type": "markdown",
   "metadata": {},
   "source": [
    "## Exercise 9: conditions\n",
    "\n",
    "1. Compute the odd number squares sum of `arr`\n",
    "\n",
    "```python\n",
    ">>> arr = [0, 1, 2, 3, 4, 5, 6, 7, 8, 9, 10, 11, 12, 13, 14, 15, 16, 17, 18, 19]\n",
    "```\n",
    "\n",
    "2. Compute the solution of $ax^2 + bx + c = 0$\n",
    "    - a, b, and c are given by the user"
   ]
  },
  {
   "cell_type": "code",
   "execution_count": 7,
   "metadata": {},
   "outputs": [
    {
     "name": "stdout",
     "output_type": "stream",
     "text": [
      "1330\n",
      "Enter a!: 1\n",
      "Enter b!: 4\n",
      "Enter c!: 4\n",
      "l'equatin ax^2 + bx + c = 0 admet une solution qui est: -b/2a= -2.0\n"
     ]
    }
   ],
   "source": [
    "arr = [0, 1, 2, 3, 4, 5, 6, 7, 8, 9, 10, 11, 12, 13, 14, 15, 16, 17, 18, 19]\n",
    "x=0\n",
    "for i in arr:\n",
    "    if i%2==1:\n",
    "        x+=i**2\n",
    "print(x)\n",
    "\n",
    "a=int(input(\"Enter a!: \"))\n",
    "b=int(input(\"Enter b!: \"))\n",
    "c=int(input(\"Enter c!: \"))\n",
    "d=b**2-4*a*c\n",
    "if(d==0):\n",
    "    print(\"l'equatin ax^2 + bx + c = 0 admet une solution qui est: -b/2a=\",-b/(2*a))\n",
    "elif(d>0):\n",
    "    print(\"l'equatin ax^2 + bx + c = 0 admet deux solutions qui sont:\",(-b+sqrt(d))/2*a,\"and\",(-b-sqrt(d))/2*a)\n",
    "else:\n",
    "    print(\"l'equatin ax^2 + bx + c = 0 n'admet pas de solution\")\n"
   ]
  },
  {
   "cell_type": "markdown",
   "metadata": {},
   "source": [
    "## Exercise 10: Numpy\n",
    "\n",
    "1. Define 2 matrices using numpy\n",
    "\n",
    "![matrix](../data/matrix.png)\n",
    "\n",
    "2. Compute the multiplication of the 2 matrices\n",
    "\n",
    "3. Print the result"
   ]
  },
  {
   "cell_type": "code",
   "execution_count": 1,
   "metadata": {},
   "outputs": [
    {
     "name": "stdout",
     "output_type": "stream",
     "text": [
      "[[ 9 12 15]\n",
      " [19 26 33]\n",
      " [29 40 51]]\n"
     ]
    }
   ],
   "source": [
    "import numpy as np\n",
    "\n",
    "matrix1 = np.array([[1, 2],\n",
    "                    [3, 4],\n",
    "                    [5, 6]])\n",
    "\n",
    "matrix2 = np.array([[1, 2, 3],\n",
    "                    [4, 5, 6]])\n",
    "\n",
    "result = np.dot(matrix1, matrix2)\n",
    "\n",
    "print(result)"
   ]
  },
  {
   "cell_type": "markdown",
   "metadata": {},
   "source": [
    "## Exercise 11: functions\n",
    "\n",
    "1. Write function that compute the max of 2 given numbers\n",
    "2. Call the function with 2 numbers of your choice"
   ]
  },
  {
   "cell_type": "code",
   "execution_count": 6,
   "metadata": {},
   "outputs": [
    {
     "name": "stdout",
     "output_type": "stream",
     "text": [
      "20\n"
     ]
    }
   ],
   "source": [
    "def max_of_two(num1, num2):\n",
    "    return max(num1, num2)\n",
    "result = max_of_two(10, 20)\n",
    "print(result)\n"
   ]
  },
  {
   "cell_type": "markdown",
   "metadata": {},
   "source": [
    "## Exercise 12: Matplotlib\n",
    " \n",
    "1. Write a Python program that will create the plot bellow\n",
    "![plot](../data/matplotlib.png)"
   ]
  },
  {
   "cell_type": "code",
   "execution_count": 14,
   "metadata": {},
   "outputs": [],
   "source": [
    "# Your code here"
   ]
  },
  {
   "cell_type": "markdown",
   "metadata": {},
   "source": [
    "## Exercise 13: pandas\n",
    "\n",
    "1. Use pandas library to read the csv file 'data.csv' (located at data repository)\n",
    "2. Print the first 10 rows for the file\n",
    "3. Print the values of 'diagnosis' column"
   ]
  },
  {
   "cell_type": "code",
   "execution_count": 14,
   "metadata": {},
   "outputs": [],
   "source": [
    "# Your code here"
   ]
  }
 ],
 "metadata": {
  "hide_input": false,
  "kernelspec": {
   "display_name": "Python 3 (ipykernel)",
   "language": "python",
   "name": "python3"
  },
  "language_info": {
   "codemirror_mode": {
    "name": "ipython",
    "version": 3
   },
   "file_extension": ".py",
   "mimetype": "text/x-python",
   "name": "python",
   "nbconvert_exporter": "python",
   "pygments_lexer": "ipython3",
   "version": "3.10.6"
  }
 },
 "nbformat": 4,
 "nbformat_minor": 4
}
